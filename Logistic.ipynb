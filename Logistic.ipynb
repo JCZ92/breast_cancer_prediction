{
 "cells": [
  {
   "cell_type": "markdown",
   "id": "abda0ba521cb0f1",
   "metadata": {
    "collapsed": false
   },
   "source": [
    "# Data exploring and preprocessing"
   ]
  },
  {
   "cell_type": "code",
   "execution_count": null,
   "id": "initial_id",
   "metadata": {},
   "outputs": [],
   "source": [
    "import pandas as pd\n",
    "# read the data first\n",
    "data = pd.read_csv('./data.csv')\n",
    "data.head(10)"
   ]
  },
  {
   "cell_type": "code",
   "outputs": [],
   "source": [
    "data.shape"
   ],
   "metadata": {
    "collapsed": false
   },
   "id": "3094c55d90c5007a",
   "execution_count": 0
  },
  {
   "cell_type": "code",
   "outputs": [],
   "source": [
    "data.info()"
   ],
   "metadata": {
    "collapsed": false
   },
   "id": "6ce90d5ac8733426",
   "execution_count": 0
  },
  {
   "cell_type": "code",
   "outputs": [],
   "source": [
    "data['diagnosis'].value_counts()"
   ],
   "metadata": {
    "collapsed": false
   },
   "id": "2e6fa5f882f2a3f8",
   "execution_count": 0
  },
  {
   "cell_type": "code",
   "outputs": [],
   "source": [
    "col = data.columns\n",
    "data.drop(['Unnamed: 32', 'id'], axis=1, inplace=True)\n",
    "data = data.dropna()\n",
    "# data.shape\n",
    "data['label'] = data['diagnosis'].map({'M': 1, 'B': 0}) # prepare the binary label\n",
    "data.drop(['diagnosis'], axis=1, inplace=True)"
   ],
   "metadata": {
    "collapsed": false
   },
   "id": "a6b0ef18a25a36d3",
   "execution_count": 0
  },
  {
   "cell_type": "markdown",
   "source": [
    "# Prepare the training set, validation set and testing set, ratio as 6:2:2"
   ],
   "metadata": {
    "collapsed": false
   },
   "id": "188e6d4ee8fab4f6"
  },
  {
   "cell_type": "code",
   "outputs": [],
   "source": [
    "from sklearn.model_selection import train_test_split\n",
    "random_seed = 888\n",
    "data_train, data_rest = train_test_split(data, test_size=0.4, random_state=random_seed, stratify=data['label'])\n",
    "data_test, data_validate = train_test_split(data_rest, test_size=0.5, random_state=random_seed, stratify=data_rest['label']) "
   ],
   "metadata": {
    "collapsed": false
   },
   "id": "373f2d5911c8e52c",
   "execution_count": 0
  },
  {
   "cell_type": "code",
   "outputs": [],
   "source": [
    "print(data_train.shape)\n",
    "print(data_validate.shape)\n",
    "print(data_test.shape)"
   ],
   "metadata": {
    "collapsed": false
   },
   "id": "ae088cc5de0080a",
   "execution_count": 0
  },
  {
   "cell_type": "code",
   "outputs": [],
   "source": [
    "# check if the splitting is balanced\n",
    "print(data_train['label'].value_counts())\n",
    "print(data_validate['label'].value_counts())\n",
    "print(data_test['label'].value_counts())"
   ],
   "metadata": {
    "collapsed": false
   },
   "id": "f0ebafff71ce0adc",
   "execution_count": 0
  },
  {
   "cell_type": "markdown",
   "source": [
    "# Normalization of data"
   ],
   "metadata": {
    "collapsed": false
   },
   "id": "741341777ce14975"
  },
  {
   "cell_type": "code",
   "outputs": [],
   "source": [
    "from sklearn.preprocessing import StandardScaler\n",
    "def get_features_and_target_arrays(input_df):\n",
    "    y = input_df['label']\n",
    "    x = input_df.drop(['label'], axis=1)\n",
    "    scaler = StandardScaler()\n",
    "    x_scaled = pd.DataFrame(scaler.fit_transform(x), columns=x.columns, index=x.index)\n",
    "    return x_scaled, y"
   ],
   "metadata": {
    "collapsed": false
   },
   "id": "b5d351be33cf1d9",
   "execution_count": 0
  },
  {
   "cell_type": "code",
   "outputs": [],
   "source": [
    "X_train, y_train = get_features_and_target_arrays(data_train)\n",
    "X_test, y_test = get_features_and_target_arrays(data_test)\n",
    "X_validate, y_validate = get_features_and_target_arrays(data_validate)"
   ],
   "metadata": {
    "collapsed": false
   },
   "id": "c9935fea877b3c5a",
   "execution_count": 0
  },
  {
   "cell_type": "markdown",
   "source": [
    "# Find the optimal hyperparameter C using the validation data with grid search"
   ],
   "metadata": {
    "collapsed": false
   },
   "id": "9190bf33aa16128a"
  },
  {
   "cell_type": "code",
   "outputs": [],
   "source": [
    "from sklearn.linear_model import LogisticRegression\n",
    "from sklearn.model_selection import GridSearchCV\n",
    "\n",
    "# Define logistic regression model\n",
    "logistic_reg = LogisticRegression(solver='liblinear') # liblinear is better for data of small size\n",
    "\n",
    "# Define hyperparameters grid\n",
    "param_grid = {'C': [0.001, 0.01, 0.1, 1, 10, 100, 1000, 10000]}  # 'C' is the inverse of lambda\n",
    "\n",
    "# Create grid search object, using f1 score here to find a balance between recall and precision\n",
    "grid_search = GridSearchCV(estimator=logistic_reg, param_grid=param_grid, cv=5, scoring='f1')\n",
    "\n",
    "# Perform grid search\n",
    "grid_search.fit(X_validate, y_validate)\n",
    "\n",
    "# Get the best hyperparameter\n",
    "best_hyperparameter = grid_search.best_params_['C']\n",
    "\n",
    "print(\"Best hyperparameter:\", best_hyperparameter)"
   ],
   "metadata": {
    "collapsed": false
   },
   "id": "5a3619cb3ee4c2f5",
   "execution_count": 0
  },
  {
   "cell_type": "markdown",
   "source": [
    "# Visualize the grid search for optimal hyperparameter"
   ],
   "metadata": {
    "collapsed": false
   },
   "id": "9acce5d4ea3a70c3"
  },
  {
   "cell_type": "code",
   "outputs": [],
   "source": [
    "import numpy as np\n",
    "import matplotlib.pyplot as plt\n",
    "\n",
    "# Extract grid search results\n",
    "results = grid_search.cv_results_\n",
    "mean_test_scores = np.array(results['mean_test_score']).reshape(8, 1)\n",
    "\n",
    "# Create a basic plot\n",
    "plt.plot([0.001, 0.01, 0.1, 1, 10, 100, 1000, 10000], mean_test_scores, marker='o')\n",
    "plt.xscale('log')\n",
    "plt.xlabel('Regularization Strength (C)')\n",
    "plt.ylabel('Mean F1 Score')\n",
    "plt.title('Grid Search for optimal hyperparameter')\n",
    "plt.grid(True)\n",
    "plt.show()\n"
   ],
   "metadata": {
    "collapsed": false
   },
   "id": "93033ce25884ff2f",
   "execution_count": 0
  },
  {
   "cell_type": "markdown",
   "source": [
    "# Train the model using the best hyperparameter learnt"
   ],
   "metadata": {
    "collapsed": false
   },
   "id": "d35cfabb12057894"
  },
  {
   "cell_type": "code",
   "outputs": [],
   "source": [
    "from sklearn.linear_model import LogisticRegression\n",
    "from sklearn.metrics import accuracy_score\n",
    "# Initialize logistic regression model with the optimal hyperparameter value\n",
    "logistic_reg = LogisticRegression(solver='liblinear', C=best_hyperparameter, penalty='l2')\n",
    "\n",
    "# Train the model on the entire training dataset\n",
    "logistic_reg.fit(X_train, y_train)\n",
    "\n",
    "# Predict the labels on the test dataset\n",
    "y_pred_test = logistic_reg.predict(X_test)\n",
    "# Compute accuracy\n",
    "accuracy = accuracy_score(y_test, y_pred_test)\n",
    "# Print accuracy\n",
    "print(\"Accuracy:\", accuracy)"
   ],
   "metadata": {
    "collapsed": false
   },
   "id": "30a34ea6be92ed46",
   "execution_count": 0
  },
  {
   "cell_type": "markdown",
   "source": [
    "# Plot the precision and recall curve, ROC curve and the f1 threshold curve"
   ],
   "metadata": {
    "collapsed": false
   },
   "id": "5fb457668b149761"
  },
  {
   "cell_type": "code",
   "outputs": [],
   "source": [
    "from sklearn.metrics import precision_recall_curve, roc_curve, auc\n",
    "import matplotlib.pyplot as plt\n",
    "\n",
    "# Get predicted probabilities for positive class\n",
    "y_pred_prob = logistic_reg.predict_proba(X_test)[:, 1]\n",
    "\n",
    "# Compute precision and recall\n",
    "precision, recall, thresholds  = precision_recall_curve(y_test, y_pred_prob)\n",
    "\n",
    "# Compute F1 score\n",
    "f1 = 2 * (precision * recall) / (precision + recall)\n",
    "\n",
    "# Compute ROC curve\n",
    "fpr, tpr, _ = roc_curve(y_test, y_pred_prob)\n",
    "\n",
    "# Compute area under the curves (AUC)\n",
    "pr_auc = auc(recall, precision)\n",
    "roc_auc = auc(fpr, tpr)\n",
    "\n",
    "# Plot Precision-Recall curve\n",
    "plt.figure(figsize=(8, 6))\n",
    "plt.plot(recall, precision, label=f'Precision-Recall (AUC = {pr_auc:.2f})')\n",
    "plt.xlabel('Recall')\n",
    "plt.ylabel('Precision')\n",
    "plt.title('Precision-Recall Curve')\n",
    "plt.legend(loc='lower left')\n",
    "plt.grid(True)\n",
    "\n",
    "# Plot ROC curve\n",
    "plt.figure(figsize=(8, 6))\n",
    "plt.plot(fpr, tpr, label=f'ROC Curve (AUC = {roc_auc:.2f})')\n",
    "plt.plot([0, 1], [0, 1], linestyle='--', color='gray', label='Random')\n",
    "plt.xlabel('False Positive Rate')\n",
    "plt.ylabel('True Positive Rate')\n",
    "plt.title('ROC Curve')\n",
    "plt.legend(loc='lower right')\n",
    "plt.grid(True)\n",
    "\n",
    "# Plot F1 score with respect to different threshold values\n",
    "plt.figure(figsize=(8, 6))\n",
    "plt.plot(thresholds, f1[:-1], label='F1 Score', marker='o', linestyle='-')\n",
    "plt.xlabel('Threshold')\n",
    "plt.ylabel('F1 Score')\n",
    "plt.title('F1 Score vs. Threshold')\n",
    "plt.grid(True)\n",
    "plt.legend()\n",
    "\n",
    "plt.show()"
   ],
   "metadata": {
    "collapsed": false
   },
   "id": "f491024502bf64a3",
   "execution_count": 0
  }
 ],
 "metadata": {
  "kernelspec": {
   "display_name": "Python 3 (ipykernel)",
   "language": "python",
   "name": "python3"
  },
  "language_info": {
   "codemirror_mode": {
    "name": "ipython",
    "version": 3
   },
   "file_extension": ".py",
   "mimetype": "text/x-python",
   "name": "python",
   "nbconvert_exporter": "python",
   "pygments_lexer": "ipython3",
   "version": "3.10.7"
  }
 },
 "nbformat": 4,
 "nbformat_minor": 5
}
